{
  "nbformat": 4,
  "nbformat_minor": 0,
  "metadata": {
    "colab": {
      "provenance": [],
      "authorship_tag": "ABX9TyME1OG+yiRirN5hc6XnZLs8",
      "include_colab_link": true
    },
    "kernelspec": {
      "name": "python3",
      "display_name": "Python 3"
    },
    "language_info": {
      "name": "python"
    }
  },
  "cells": [
    {
      "cell_type": "markdown",
      "metadata": {
        "id": "view-in-github",
        "colab_type": "text"
      },
      "source": [
        "<a href=\"https://colab.research.google.com/github/IshanThapa/Assignments/blob/master/Assignment3.ipynb\" target=\"_parent\"><img src=\"https://colab.research.google.com/assets/colab-badge.svg\" alt=\"Open In Colab\"/></a>"
      ]
    },
    {
      "cell_type": "code",
      "execution_count": null,
      "metadata": {
        "id": "0JpHUaht2m3T"
      },
      "outputs": [],
      "source": [
        "#Ques1-\n",
        "class Solution:\n",
        "    def threeSumClosest(self, nums: List[int], target: int) -> int:\n",
        "        nums=sorted(nums)\n",
        "        diff=float('inf')\n",
        "        for i in range(len(nums)-1):\n",
        "            start=i+1\n",
        "            end=len(nums)-1\n",
        "            while(start<end):\n",
        "                sum=nums[i]+nums[start]+nums[end]\n",
        "                if sum==target:\n",
        "                    return target\n",
        "                elif abs(target-sum)<diff:\n",
        "                    diff=abs(target-sum)\n",
        "                    ans=sum\n",
        "                if sum>target:\n",
        "                    end-=1\n",
        "                else:\n",
        "                    start+=1\n",
        "        return ans"
      ]
    },
    {
      "cell_type": "code",
      "source": [
        "#Ques2-\n",
        "class Solution:\n",
        "    def fourSum(self, nums, target):\n",
        "        nums.sort()\n",
        "        res = []\n",
        "        for i in range(len(nums) - 3):\n",
        "            if i > 0 and nums[i] == nums[i - 1]:\n",
        "                continue\n",
        "            for j in range(i + 1, len(nums) - 2):\n",
        "                if j > i + 1 and nums[j] == nums[j - 1]:\n",
        "                    continue\n",
        "                l, r = j + 1, len(nums) - 1\n",
        "                while l < r:\n",
        "                    s = nums[i] + nums[j] + nums[l] + nums[r]\n",
        "                    if s == target:\n",
        "                        res.append([nums[i], nums[j], nums[l], nums[r]])\n",
        "                        while l < r and nums[l] == nums[l + 1]:\n",
        "                            l += 1\n",
        "                        while l < r and nums[r] == nums[r - 1]:\n",
        "                            r -= 1\n",
        "                        l += 1\n",
        "                        r -= 1\n",
        "                    elif s < target:\n",
        "                        l += 1\n",
        "                    else:\n",
        "                        r -= 1\n",
        "        return res"
      ],
      "metadata": {
        "id": "CpbaC_Mu2tXF"
      },
      "execution_count": null,
      "outputs": []
    },
    {
      "cell_type": "code",
      "source": [
        "#Ques3-\n",
        "class Solution:\n",
        "    def nextPermutation(self, nums: list[int]) -> None:\n",
        "        \"\"\"\n",
        "        Do not return anything, modify nums in-place instead.\n",
        "        \"\"\"\n",
        "        if nums is None or len(nums) <= 1:\n",
        "            return\n",
        "\n",
        "        i = len(nums) - 2\n",
        "        while i >= 0 and nums[i] >= nums[i + 1]:\n",
        "            i -= 1\n",
        "\n",
        "        if i >= 0:\n",
        "            j = len(nums) - 1\n",
        "            while j > i and nums[j] <= nums[i]:\n",
        "                j -= 1\n",
        "\n",
        "            self.swap(nums, i, j)\n",
        "\n",
        "        self.reverse(nums, i + 1)\n",
        "\n",
        "    def swap(self, nums: List[int], i: int, j: int) -> None:\n",
        "        nums[i], nums[j] = nums[j], nums[i]\n",
        "\n",
        "    def reverse(self, nums: List[int], start: int) -> None:\n",
        "        i = start\n",
        "        j = len(nums) - 1\n",
        "        while i < j:\n",
        "            self.swap(nums, i, j)\n",
        "            i += 1\n",
        "            j -= 1\n"
      ],
      "metadata": {
        "id": "Xnzfk1Bz2yIQ",
        "colab": {
          "base_uri": "https://localhost:8080/",
          "height": 356
        },
        "outputId": "806d0821-1df7-4d50-ca74-5ed353406cc1"
      },
      "execution_count": 1,
      "outputs": [
        {
          "output_type": "error",
          "ename": "NameError",
          "evalue": "ignored",
          "traceback": [
            "\u001b[0;31m---------------------------------------------------------------------------\u001b[0m",
            "\u001b[0;31mNameError\u001b[0m                                 Traceback (most recent call last)",
            "\u001b[0;32m<ipython-input-1-a4432b928c53>\u001b[0m in \u001b[0;36m<cell line: 2>\u001b[0;34m()\u001b[0m\n\u001b[1;32m      1\u001b[0m \u001b[0;31m#Ques3-\u001b[0m\u001b[0;34m\u001b[0m\u001b[0;34m\u001b[0m\u001b[0m\n\u001b[0;32m----> 2\u001b[0;31m \u001b[0;32mclass\u001b[0m \u001b[0mSolution\u001b[0m\u001b[0;34m:\u001b[0m\u001b[0;34m\u001b[0m\u001b[0;34m\u001b[0m\u001b[0m\n\u001b[0m\u001b[1;32m      3\u001b[0m     \u001b[0;32mdef\u001b[0m \u001b[0mnextPermutation\u001b[0m\u001b[0;34m(\u001b[0m\u001b[0mself\u001b[0m\u001b[0;34m,\u001b[0m \u001b[0mnums\u001b[0m\u001b[0;34m:\u001b[0m \u001b[0mlist\u001b[0m\u001b[0;34m[\u001b[0m\u001b[0mint\u001b[0m\u001b[0;34m]\u001b[0m\u001b[0;34m)\u001b[0m \u001b[0;34m->\u001b[0m \u001b[0;32mNone\u001b[0m\u001b[0;34m:\u001b[0m\u001b[0;34m\u001b[0m\u001b[0;34m\u001b[0m\u001b[0m\n\u001b[1;32m      4\u001b[0m         \"\"\"\n\u001b[1;32m      5\u001b[0m         \u001b[0mDo\u001b[0m \u001b[0;32mnot\u001b[0m \u001b[0;32mreturn\u001b[0m \u001b[0manything\u001b[0m\u001b[0;34m,\u001b[0m \u001b[0mmodify\u001b[0m \u001b[0mnums\u001b[0m \u001b[0;32min\u001b[0m\u001b[0;34m-\u001b[0m\u001b[0mplace\u001b[0m \u001b[0minstead\u001b[0m\u001b[0;34m.\u001b[0m\u001b[0;34m\u001b[0m\u001b[0;34m\u001b[0m\u001b[0m\n",
            "\u001b[0;32m<ipython-input-1-a4432b928c53>\u001b[0m in \u001b[0;36mSolution\u001b[0;34m()\u001b[0m\n\u001b[1;32m     21\u001b[0m         \u001b[0mself\u001b[0m\u001b[0;34m.\u001b[0m\u001b[0mreverse\u001b[0m\u001b[0;34m(\u001b[0m\u001b[0mnums\u001b[0m\u001b[0;34m,\u001b[0m \u001b[0mi\u001b[0m \u001b[0;34m+\u001b[0m \u001b[0;36m1\u001b[0m\u001b[0;34m)\u001b[0m\u001b[0;34m\u001b[0m\u001b[0;34m\u001b[0m\u001b[0m\n\u001b[1;32m     22\u001b[0m \u001b[0;34m\u001b[0m\u001b[0m\n\u001b[0;32m---> 23\u001b[0;31m     \u001b[0;32mdef\u001b[0m \u001b[0mswap\u001b[0m\u001b[0;34m(\u001b[0m\u001b[0mself\u001b[0m\u001b[0;34m,\u001b[0m \u001b[0mnums\u001b[0m\u001b[0;34m:\u001b[0m \u001b[0mList\u001b[0m\u001b[0;34m[\u001b[0m\u001b[0mint\u001b[0m\u001b[0;34m]\u001b[0m\u001b[0;34m,\u001b[0m \u001b[0mi\u001b[0m\u001b[0;34m:\u001b[0m \u001b[0mint\u001b[0m\u001b[0;34m,\u001b[0m \u001b[0mj\u001b[0m\u001b[0;34m:\u001b[0m \u001b[0mint\u001b[0m\u001b[0;34m)\u001b[0m \u001b[0;34m->\u001b[0m \u001b[0;32mNone\u001b[0m\u001b[0;34m:\u001b[0m\u001b[0;34m\u001b[0m\u001b[0;34m\u001b[0m\u001b[0m\n\u001b[0m\u001b[1;32m     24\u001b[0m         \u001b[0mnums\u001b[0m\u001b[0;34m[\u001b[0m\u001b[0mi\u001b[0m\u001b[0;34m]\u001b[0m\u001b[0;34m,\u001b[0m \u001b[0mnums\u001b[0m\u001b[0;34m[\u001b[0m\u001b[0mj\u001b[0m\u001b[0;34m]\u001b[0m \u001b[0;34m=\u001b[0m \u001b[0mnums\u001b[0m\u001b[0;34m[\u001b[0m\u001b[0mj\u001b[0m\u001b[0;34m]\u001b[0m\u001b[0;34m,\u001b[0m \u001b[0mnums\u001b[0m\u001b[0;34m[\u001b[0m\u001b[0mi\u001b[0m\u001b[0;34m]\u001b[0m\u001b[0;34m\u001b[0m\u001b[0;34m\u001b[0m\u001b[0m\n\u001b[1;32m     25\u001b[0m \u001b[0;34m\u001b[0m\u001b[0m\n",
            "\u001b[0;31mNameError\u001b[0m: name 'List' is not defined"
          ]
        }
      ]
    },
    {
      "cell_type": "code",
      "source": [
        "#Ques4-\n",
        "class Solution:\n",
        "    def searchInsert(self, nums: list[int], target: int) -> int:\n",
        "        if target in nums:\n",
        "            return nums.index(target)\n",
        "        else:\n",
        "            nums.append(target)\n",
        "            return sorted(nums).index(target)\n",
        "            "
      ],
      "metadata": {
        "id": "eLD5JbQi2yqA"
      },
      "execution_count": 2,
      "outputs": []
    },
    {
      "cell_type": "code",
      "source": [
        "#Ques5-\n",
        "class Solution:\n",
        "    def plusOne(self, digits: list[int]) -> list[int]:\n",
        "        num = int(\"\".join(map(str, digits)))\n",
        "        num += 1\n",
        "        return [int(x) for x in str(num)]"
      ],
      "metadata": {
        "id": "8zbBkBup2zFV"
      },
      "execution_count": 3,
      "outputs": []
    },
    {
      "cell_type": "code",
      "source": [
        "#Ques6-\n",
        "def singleNumber(self, nums: list[int]) -> int:\n",
        "        counter = {}\n",
        "        for index, number in enumerate(nums):\n",
        "            if(counter.get(number) == None):\n",
        "                counter[number] = 1\n",
        "            else:\n",
        "                del counter[number]\n",
        "        return [*counter][0]\n"
      ],
      "metadata": {
        "id": "GQKuQOir2zgg"
      },
      "execution_count": 1,
      "outputs": []
    },
    {
      "cell_type": "code",
      "source": [
        "#Ques7-\n",
        "class Solution:\n",
        "    def summaryRanges(self, nums: list[int]) -> list[str]:\n",
        "        ranges = []     \n",
        "        i = 0 \n",
        "        \n",
        "        while i < len(nums): \n",
        "            start = nums[i]  \n",
        "            while i + 1 < len(nums) and nums[i] + 1 == nums[i + 1]: \n",
        "                i += 1 \n",
        "            \n",
        "            if start != nums[i]: \n",
        "                ranges.append(str(start) + \"->\" + str(nums[i]))\n",
        "            else: \n",
        "                ranges.append(str(nums[i]))\n",
        "            \n",
        "            i += 1\n",
        "\n",
        "        return ranges\n"
      ],
      "metadata": {
        "id": "Lr3BaC7q21pY"
      },
      "execution_count": 2,
      "outputs": []
    },
    {
      "cell_type": "code",
      "source": [
        "#Ques8-\n",
        "class Solution:\n",
        "  def canAttend(interval):\n",
        "        \n",
        "    interval.sort(key=lambda a: a.start)\n",
        "    for i in range(len(interval)-1):\n",
        "        if interval[i].end > interval[i+1].start:\n",
        "            return False\n",
        "    return True"
      ],
      "metadata": {
        "id": "hS0e6MRX22EA"
      },
      "execution_count": null,
      "outputs": []
    },
    {
      "cell_type": "code",
      "source": [
        "#End of assignment."
      ],
      "metadata": {
        "id": "DySqZREv22bo"
      },
      "execution_count": null,
      "outputs": []
    }
  ]
}