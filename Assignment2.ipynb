{
  "nbformat": 4,
  "nbformat_minor": 0,
  "metadata": {
    "colab": {
      "provenance": [],
      "authorship_tag": "ABX9TyOQoKIuxbHn2sQrsDnp4bTo",
      "include_colab_link": true
    },
    "kernelspec": {
      "name": "python3",
      "display_name": "Python 3"
    },
    "language_info": {
      "name": "python"
    }
  },
  "cells": [
    {
      "cell_type": "markdown",
      "metadata": {
        "id": "view-in-github",
        "colab_type": "text"
      },
      "source": [
        "<a href=\"https://colab.research.google.com/github/IshanThapa/Assignments/blob/master/Assignment2.ipynb\" target=\"_parent\"><img src=\"https://colab.research.google.com/assets/colab-badge.svg\" alt=\"Open In Colab\"/></a>"
      ]
    },
    {
      "cell_type": "code",
      "source": [
        "#Ques1-\n",
        "class Solution:\n",
        "    def arrayPairSum(self, nums: list[int]) -> int:\n",
        "        sortednums = sorted(nums)\n",
        "        return sum(sortednums[::2])\n",
        "\n"
      ],
      "metadata": {
        "id": "qzRQdfCACT89"
      },
      "execution_count": 3,
      "outputs": []
    },
    {
      "cell_type": "code",
      "source": [
        "#Ques2-\n",
        "class Solution:\n",
        "    def distributeCandies(self, candyType: list[int]) -> int:\n",
        "        #half of total num of candy eaten-\n",
        "        candy_len = int(len(candyType)/2)\n",
        "        #finding num of unique candy in candy type-\n",
        "        unique_candy_len = len(set(candyType))\n",
        "        return min(candy_len,unique_candy_len)"
      ],
      "metadata": {
        "id": "dOiIvip0Dp_p"
      },
      "execution_count": 5,
      "outputs": []
    },
    {
      "cell_type": "code",
      "source": [
        "#Ques3-\n",
        "class Solution:\n",
        "    def findlhs(self, nums: list[int]) -> int:\n",
        "        lhs = Counter(nums)\n",
        "        max_length = 0\n",
        "        \n",
        "        for key in lhs:\n",
        "            if key + 1 in freq:\n",
        "                max_length = max(max_length, lhs[key] + lhs[key+1])\n",
        "                \n",
        "        return max_length"
      ],
      "metadata": {
        "id": "iUs4LNBAbKAc"
      },
      "execution_count": 2,
      "outputs": []
    },
    {
      "cell_type": "code",
      "source": [
        "#Ques4-\n",
        "class Solution:\n",
        "    def canPlaceFlowers(self, flowerbed: list[int], n: int) -> bool:\n",
        "        count = 0\n",
        "        a = len(flowerbed)\n",
        "\n",
        "        for i in range(a):\n",
        "            if (flowerbed[i] == 0 and (i == 0 or flowerbed[i - 1] == 0) and (i == a - 1 or flowerbed[i + 1] == 0)):\n",
        "                count += 1\n",
        "                flowerbed[i] = 1\n",
        "                if count >= n:\n",
        "                    break\n",
        "\n",
        "        return count >= n"
      ],
      "metadata": {
        "id": "q0-tftDo_-uS"
      },
      "execution_count": 2,
      "outputs": []
    },
    {
      "cell_type": "code",
      "source": [
        "#Ques5-\n",
        "class Solution:\n",
        "    def maximumProduct(self, nums: list[int]) -> int:\n",
        "        nums.sort()\n",
        "        return max(nums[-1]*nums[-2]*nums[-3],nums[0]*nums[1]*nums[-1])"
      ],
      "metadata": {
        "id": "3BUpfM-0p5wU"
      },
      "execution_count": 1,
      "outputs": []
    },
    {
      "cell_type": "code",
      "source": [
        "#Ques6-\n",
        "class Solution:\n",
        "    def search(self, nums: list[int], target: int) -> int:\n",
        "        left = 0\n",
        "        right = len(nums) -1\n",
        "\n",
        "        while left <= right:\n",
        "            mid = ( left + right ) // 2\n",
        "            if nums[mid] == target:\n",
        "                return mid\n",
        "            elif nums[mid] < target:\n",
        "              left = mid +1\n",
        "            else:\n",
        "              right = mid -1\n",
        "        return -1"
      ],
      "metadata": {
        "id": "G9q7lAt29k6K"
      },
      "execution_count": 4,
      "outputs": []
    },
    {
      "cell_type": "code",
      "source": [
        "#Ques7-\n",
        "\"\"\"class Solution:\n",
        "    def isMonotonic(self, nums: List[int]) -> bool:\n",
        "        monoticDec = False\n",
        "        monoticInc = False\n",
        "\n",
        "        if nums[0] > nums[1]:\n",
        "            monoticDec = True\n",
        "        elif nums[0] < nums[1]:\n",
        "            monoticInc = True\n",
        "\n",
        "        for i in range(len(nums) - 1):\n",
        "            if monoticInc:\n",
        "                if nums[i] > nums[i + 1]:\n",
        "                    return False\n",
        "\n",
        "            if monoticDec:\n",
        "                if nums[i] < nums[i + 1]:\n",
        "                    return False\n",
        "\n",
        "        return True\"\"\"\n"
      ],
      "metadata": {
        "colab": {
          "base_uri": "https://localhost:8080/",
          "height": 122
        },
        "id": "Dhs8Pw7LDG6R",
        "outputId": "858e4346-c23b-4e4b-a60f-be6f44b28e6b"
      },
      "execution_count": 1,
      "outputs": [
        {
          "output_type": "execute_result",
          "data": {
            "text/plain": [
              "'class Solution:\\n    def isMonotonic(self, nums: List[int]) -> bool:\\n        monoticDec = False\\n        monoticInc = False\\n\\n        if nums[0] > nums[1]:\\n            monoticDec = True\\n        elif nums[0] < nums[1]:\\n            monoticInc = True\\n\\n        for i in range(len(nums) - 1):\\n            if monoticInc:\\n                if nums[i] > nums[i + 1]:\\n                    return False\\n\\n            if monoticDec:\\n                if nums[i] < nums[i + 1]:\\n                    return False\\n\\n        return True'"
            ],
            "application/vnd.google.colaboratory.intrinsic+json": {
              "type": "string"
            }
          },
          "metadata": {},
          "execution_count": 1
        }
      ]
    },
    {
      "cell_type": "code",
      "source": [
        "#Ques7-\n",
        "class Solution:\n",
        "    def isMonotonic(self, A: list[int]) -> bool:\n",
        "        if A[-1] < A[0]: \n",
        "            A = A[::-1]\n",
        "        \n",
        "        for i in range(1, len(A)):\n",
        "            if A[i] < A[i-1]:\n",
        "                return False\n",
        "        return True"
      ],
      "metadata": {
        "id": "XrbyR7GK0nQN"
      },
      "execution_count": 3,
      "outputs": []
    },
    {
      "cell_type": "code",
      "source": [
        "#Ques8-\n",
        "import math\n",
        "class Solution:\n",
        "    def smallestRangeI(self, A: List[int], k: int) -> int:\n",
        "        minVal = A[0]\n",
        "        maxVal = A[0]\n",
        "        \n",
        "        for i in range(len(A)):\n",
        "            minVal = min(minVal, A[i])\n",
        "            maxVal = max(maxVal, A[i])\n",
        "\n",
        "        if minVal + k >= maxVal - k:\n",
        "            return 0\n",
        "        \n",
        "        else:\n",
        "            return (maxVal - k) - (minVal + k)"
      ],
      "metadata": {
        "colab": {
          "base_uri": "https://localhost:8080/",
          "height": 356
        },
        "id": "eisFuYc23moL",
        "outputId": "5cff9688-6715-4a31-83dd-fd6065742a75"
      },
      "execution_count": 1,
      "outputs": [
        {
          "output_type": "error",
          "ename": "NameError",
          "evalue": "ignored",
          "traceback": [
            "\u001b[0;31m---------------------------------------------------------------------------\u001b[0m",
            "\u001b[0;31mNameError\u001b[0m                                 Traceback (most recent call last)",
            "\u001b[0;32m<ipython-input-1-55af4944835a>\u001b[0m in \u001b[0;36m<cell line: 3>\u001b[0;34m()\u001b[0m\n\u001b[1;32m      1\u001b[0m \u001b[0;31m#Ques8-\u001b[0m\u001b[0;34m\u001b[0m\u001b[0;34m\u001b[0m\u001b[0m\n\u001b[1;32m      2\u001b[0m \u001b[0;32mimport\u001b[0m \u001b[0mmath\u001b[0m\u001b[0;34m\u001b[0m\u001b[0;34m\u001b[0m\u001b[0m\n\u001b[0;32m----> 3\u001b[0;31m \u001b[0;32mclass\u001b[0m \u001b[0mSolution\u001b[0m\u001b[0;34m:\u001b[0m\u001b[0;34m\u001b[0m\u001b[0;34m\u001b[0m\u001b[0m\n\u001b[0m\u001b[1;32m      4\u001b[0m     \u001b[0;32mdef\u001b[0m \u001b[0msmallestRangeI\u001b[0m\u001b[0;34m(\u001b[0m\u001b[0mself\u001b[0m\u001b[0;34m,\u001b[0m \u001b[0mA\u001b[0m\u001b[0;34m:\u001b[0m \u001b[0mList\u001b[0m\u001b[0;34m[\u001b[0m\u001b[0mint\u001b[0m\u001b[0;34m]\u001b[0m\u001b[0;34m,\u001b[0m \u001b[0mk\u001b[0m\u001b[0;34m:\u001b[0m \u001b[0mint\u001b[0m\u001b[0;34m)\u001b[0m \u001b[0;34m->\u001b[0m \u001b[0mint\u001b[0m\u001b[0;34m:\u001b[0m\u001b[0;34m\u001b[0m\u001b[0;34m\u001b[0m\u001b[0m\n\u001b[1;32m      5\u001b[0m         \u001b[0mminVal\u001b[0m \u001b[0;34m=\u001b[0m \u001b[0mA\u001b[0m\u001b[0;34m[\u001b[0m\u001b[0;36m0\u001b[0m\u001b[0;34m]\u001b[0m\u001b[0;34m\u001b[0m\u001b[0;34m\u001b[0m\u001b[0m\n",
            "\u001b[0;32m<ipython-input-1-55af4944835a>\u001b[0m in \u001b[0;36mSolution\u001b[0;34m()\u001b[0m\n\u001b[1;32m      2\u001b[0m \u001b[0;32mimport\u001b[0m \u001b[0mmath\u001b[0m\u001b[0;34m\u001b[0m\u001b[0;34m\u001b[0m\u001b[0m\n\u001b[1;32m      3\u001b[0m \u001b[0;32mclass\u001b[0m \u001b[0mSolution\u001b[0m\u001b[0;34m:\u001b[0m\u001b[0;34m\u001b[0m\u001b[0;34m\u001b[0m\u001b[0m\n\u001b[0;32m----> 4\u001b[0;31m     \u001b[0;32mdef\u001b[0m \u001b[0msmallestRangeI\u001b[0m\u001b[0;34m(\u001b[0m\u001b[0mself\u001b[0m\u001b[0;34m,\u001b[0m \u001b[0mA\u001b[0m\u001b[0;34m:\u001b[0m \u001b[0mList\u001b[0m\u001b[0;34m[\u001b[0m\u001b[0mint\u001b[0m\u001b[0;34m]\u001b[0m\u001b[0;34m,\u001b[0m \u001b[0mk\u001b[0m\u001b[0;34m:\u001b[0m \u001b[0mint\u001b[0m\u001b[0;34m)\u001b[0m \u001b[0;34m->\u001b[0m \u001b[0mint\u001b[0m\u001b[0;34m:\u001b[0m\u001b[0;34m\u001b[0m\u001b[0;34m\u001b[0m\u001b[0m\n\u001b[0m\u001b[1;32m      5\u001b[0m         \u001b[0mminVal\u001b[0m \u001b[0;34m=\u001b[0m \u001b[0mA\u001b[0m\u001b[0;34m[\u001b[0m\u001b[0;36m0\u001b[0m\u001b[0;34m]\u001b[0m\u001b[0;34m\u001b[0m\u001b[0;34m\u001b[0m\u001b[0m\n\u001b[1;32m      6\u001b[0m         \u001b[0mmaxVal\u001b[0m \u001b[0;34m=\u001b[0m \u001b[0mA\u001b[0m\u001b[0;34m[\u001b[0m\u001b[0;36m0\u001b[0m\u001b[0;34m]\u001b[0m\u001b[0;34m\u001b[0m\u001b[0;34m\u001b[0m\u001b[0m\n",
            "\u001b[0;31mNameError\u001b[0m: name 'List' is not defined"
          ]
        }
      ]
    },
    {
      "cell_type": "code",
      "source": [
        "#End of assignment"
      ],
      "metadata": {
        "id": "hFkiedat0Evx"
      },
      "execution_count": null,
      "outputs": []
    }
  ]
}