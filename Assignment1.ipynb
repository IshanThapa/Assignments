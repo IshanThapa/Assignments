{
  "nbformat": 4,
  "nbformat_minor": 0,
  "metadata": {
    "colab": {
      "provenance": [],
      "authorship_tag": "ABX9TyOcHl9ZH2XK5Kj3t/UDKE/C",
      "include_colab_link": true
    },
    "kernelspec": {
      "name": "python3",
      "display_name": "Python 3"
    },
    "language_info": {
      "name": "python"
    }
  },
  "cells": [
    {
      "cell_type": "markdown",
      "metadata": {
        "id": "view-in-github",
        "colab_type": "text"
      },
      "source": [
        "<a href=\"https://colab.research.google.com/github/IshanThapa/Assignments/blob/master/Assignment1.ipynb\" target=\"_parent\"><img src=\"https://colab.research.google.com/assets/colab-badge.svg\" alt=\"Open In Colab\"/></a>"
      ]
    },
    {
      "cell_type": "code",
      "execution_count": 1,
      "metadata": {
        "id": "nJt3zR_yynCz"
      },
      "outputs": [],
      "source": [
        "#Ques1- \n",
        "class Solution:\n",
        "    def twoSum(self, nums: List[int], target: int) -> List[int]:\n",
        "        hash={}\n",
        "        for i in range( len(nums)):\n",
        "            complement = target -nums[i]\n",
        "            if complement in hash:\n",
        "                return[i,hash[complement]]\n",
        "            hash[nums[i]] = i\n",
        "\n"
      ]
    },
    {
      "cell_type": "code",
      "source": [
        "#Ques2-\n",
        "class Solution:\n",
        "    def removeElement(self, nums: list[int], val:int):\n",
        "        count = 0\n",
        "        for i in range(len(nums)):\n",
        "            if nums[i] != val :\n",
        "                nums[count] = nums[i]\n",
        "                count +=1\n",
        "        return count\n"
      ],
      "metadata": {
        "id": "u3p-bOH0zQpF"
      },
      "execution_count": 2,
      "outputs": []
    },
    {
      "cell_type": "code",
      "source": [
        "#Ques3-\n",
        "class Solution:\n",
        "    def searchInsert(self, nums: List[int], target: int) -> int:\n",
        "        if target in nums:\n",
        "            return nums.index(target)\n",
        "        else:\n",
        "            nums.append(target)\n",
        "            return sorted(nums).index(target)"
      ],
      "metadata": {
        "id": "1WZUfFQBzTHi"
      },
      "execution_count": 3,
      "outputs": []
    },
    {
      "cell_type": "code",
      "source": [
        "#Ques4-\n",
        "class Solution:\n",
        "    def plusOne(self, digits:List[int]) ->List[int]:\n",
        "        num = int(\"\".join(map(str, digits)))\n",
        "        num += 1\n",
        "        return [int(x) for x in str(num)]\n"
      ],
      "metadata": {
        "id": "tAsKadjgzVga"
      },
      "execution_count": 4,
      "outputs": []
    },
    {
      "cell_type": "code",
      "source": [
        "#Ques5-\n",
        "class Solution:\n",
        "    def merge(self, nums1: List[int], m: int, nums2: List[int], n: int) -> None:\n",
        "        for i, item in enumerate(nums2):\n",
        "            nums1[m] = nums2[i]\n",
        "            i += 1\n",
        "            m += 1\n",
        "        nums1.sort()\n"
      ],
      "metadata": {
        "id": "x1fVfERkzZVr"
      },
      "execution_count": 5,
      "outputs": []
    },
    {
      "cell_type": "code",
      "source": [
        "#Ques6-\n",
        "class Solution(object):\n",
        "    def containsDuplicate(self, nums):\n",
        "        hset = set()\n",
        "        for idx in nums:\n",
        "            if idx in hset:\n",
        "                return True\n",
        "            else:\n",
        "                hset.add(idx)\n",
        "\n",
        "\n",
        "\n"
      ],
      "metadata": {
        "id": "jIrkFsM_zb5x"
      },
      "execution_count": 6,
      "outputs": []
    },
    {
      "cell_type": "code",
      "source": [
        "#Ques7-\n",
        "class Solution:\n",
        "    def moveZeroes(self, nums: list) -> None:\n",
        "        point = 0\n",
        "        for qoint in range(len(nums)):\n",
        "            if nums[qoint] != 0 and nums[point] == 0:\n",
        "                nums[point], nums[qoint] = nums[qoint], nums[point]\n",
        "\n",
        "            if nums[point] != 0:\n",
        "                point += 1"
      ],
      "metadata": {
        "id": "QG14ZDsKze7K"
      },
      "execution_count": 7,
      "outputs": []
    },
    {
      "cell_type": "code",
      "source": [
        "#Ques8-\n",
        "class Solution(object):\n",
        "    def findErrorNums(self, nums):\n",
        "        l, dup, mis = len(nums), 0, 0\n",
        "        for num in nums:\n",
        "            if nums[abs(num) - 1] < 0:\n",
        "                dup = abs(num)\n",
        "            else:\n",
        "                nums[abs(num) - 1] *= -1\n",
        "\n",
        "        for index in range(l):\n",
        "            if nums[index] > 0:\n",
        "                mis = index + 1\n",
        "                break\n",
        "\n",
        "        return [dup, mis]\n"
      ],
      "metadata": {
        "id": "DIZSWOlHzj_Z"
      },
      "execution_count": 8,
      "outputs": []
    },
    {
      "cell_type": "code",
      "source": [
        "#End of assignment"
      ],
      "metadata": {
        "id": "qMvtVrX4z6KJ"
      },
      "execution_count": null,
      "outputs": []
    }
  ]
}