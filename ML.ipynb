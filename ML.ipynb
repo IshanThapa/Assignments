{
  "metadata": {
    "kernelspec": {
      "language": "python",
      "display_name": "Python 3",
      "name": "python3"
    },
    "language_info": {
      "name": "python",
      "version": "3.10.13",
      "mimetype": "text/x-python",
      "codemirror_mode": {
        "name": "ipython",
        "version": 3
      },
      "pygments_lexer": "ipython3",
      "nbconvert_exporter": "python",
      "file_extension": ".py"
    },
    "kaggle": {
      "accelerator": "none",
      "dataSources": [
        {
          "sourceId": 1865645,
          "sourceType": "datasetVersion",
          "datasetId": 1110430
        }
      ],
      "dockerImageVersionId": 30646,
      "isInternetEnabled": true,
      "language": "python",
      "sourceType": "notebook",
      "isGpuEnabled": false
    },
    "colab": {
      "provenance": [],
      "include_colab_link": true
    }
  },
  "nbformat_minor": 0,
  "nbformat": 4,
  "cells": [
    {
      "cell_type": "markdown",
      "metadata": {
        "id": "view-in-github",
        "colab_type": "text"
      },
      "source": [
        "<a href=\"https://colab.research.google.com/github/IshanThapa/Assignments/blob/master/ML.ipynb\" target=\"_parent\"><img src=\"https://colab.research.google.com/assets/colab-badge.svg\" alt=\"Open In Colab\"/></a>"
      ]
    },
    {
      "cell_type": "code",
      "source": [
        "import plotly.express as px\n",
        "import matplotlib.pyplot as plt\n",
        "import numpy as np\n",
        "import pandas as pd\n",
        "# This Python 3 environment comes with many helpful analytics libraries installed\n",
        "# It is defined by the kaggle/python Docker image: https://github.com/kaggle/docker-python\n",
        "# For example, here's several helpful packages to load\n",
        "\n",
        "import numpy as np # linear algebra\n",
        "import pandas as pd # data processing, CSV file I/O (e.g. pd.read_csv)\n",
        "\n",
        "# Input data files are available in the read-only \"../input/\" directory\n",
        "# For example, running this (by clicking run or pressing Shift+Enter) will list all files under the input directory\n",
        "\n",
        "import os\n",
        "for dirname, _, filenames in os.walk('/kaggle/input'):\n",
        "    for filename in filenames:\n",
        "        print(os.path.join(dirname, filename))\n",
        "\n",
        "# You can write up to 20GB to the current directory (/kaggle/working/) that gets preserved as output when you create a version using \"Save & Run All\"\n",
        "# You can also write temporary files to /kaggle/temp/, but they won't be saved outside of the current session"
      ],
      "metadata": {
        "_uuid": "8f2839f25d086af736a60e9eeb907d3b93b6e0e5",
        "_cell_guid": "b1076dfc-b9ad-4769-8c92-a6c4dae69d19",
        "execution": {
          "iopub.status.busy": "2024-02-04T05:36:17.176589Z",
          "iopub.execute_input": "2024-02-04T05:36:17.176987Z",
          "iopub.status.idle": "2024-02-04T05:36:17.196584Z",
          "shell.execute_reply.started": "2024-02-04T05:36:17.176959Z",
          "shell.execute_reply": "2024-02-04T05:36:17.195041Z"
        },
        "trusted": true,
        "id": "p7nAjLBqrMqe",
        "outputId": "fd2c0065-1f81-4c66-a376-eb6aefc49aa5"
      },
      "execution_count": null,
      "outputs": [
        {
          "name": "stdout",
          "text": "/kaggle/input/instagram-reach/instagram_reach.csv\n",
          "output_type": "stream"
        }
      ]
    },
    {
      "cell_type": "code",
      "source": [
        "df = pd.read_csv('/kaggle/input/instagram-reach/instagram_reach.csv')"
      ],
      "metadata": {
        "execution": {
          "iopub.status.busy": "2024-02-04T05:09:23.238127Z",
          "iopub.execute_input": "2024-02-04T05:09:23.238883Z",
          "iopub.status.idle": "2024-02-04T05:09:23.248718Z",
          "shell.execute_reply.started": "2024-02-04T05:09:23.238844Z",
          "shell.execute_reply": "2024-02-04T05:09:23.247672Z"
        },
        "trusted": true,
        "id": "mlrCR3b5rMqn"
      },
      "execution_count": null,
      "outputs": []
    },
    {
      "cell_type": "code",
      "source": [
        "df.shape"
      ],
      "metadata": {
        "execution": {
          "iopub.status.busy": "2024-02-04T05:09:23.873658Z",
          "iopub.execute_input": "2024-02-04T05:09:23.874299Z",
          "iopub.status.idle": "2024-02-04T05:09:23.880912Z",
          "shell.execute_reply.started": "2024-02-04T05:09:23.874257Z",
          "shell.execute_reply": "2024-02-04T05:09:23.879878Z"
        },
        "trusted": true,
        "id": "zT01hP5CrMqp",
        "outputId": "acc54c04-83c2-4523-aa6d-c9dc71da22d8"
      },
      "execution_count": null,
      "outputs": [
        {
          "execution_count": 10,
          "output_type": "execute_result",
          "data": {
            "text/plain": "(100, 8)"
          },
          "metadata": {}
        }
      ]
    },
    {
      "cell_type": "code",
      "source": [
        "df.columns"
      ],
      "metadata": {
        "execution": {
          "iopub.status.busy": "2024-02-04T05:09:24.372600Z",
          "iopub.execute_input": "2024-02-04T05:09:24.373032Z",
          "iopub.status.idle": "2024-02-04T05:09:24.380634Z",
          "shell.execute_reply.started": "2024-02-04T05:09:24.372977Z",
          "shell.execute_reply": "2024-02-04T05:09:24.379294Z"
        },
        "trusted": true,
        "id": "oYi-nZcArMqq",
        "outputId": "4916abdf-052b-4741-8f01-3f6f40207612"
      },
      "execution_count": null,
      "outputs": [
        {
          "execution_count": 11,
          "output_type": "execute_result",
          "data": {
            "text/plain": "Index(['Unnamed: 0', 'S.No', 'USERNAME', 'Caption', 'Followers', 'Hashtags',\n       'Time since posted', 'Likes'],\n      dtype='object')"
          },
          "metadata": {}
        }
      ]
    },
    {
      "cell_type": "code",
      "source": [
        "df.head()"
      ],
      "metadata": {
        "execution": {
          "iopub.status.busy": "2024-02-04T05:09:25.153798Z",
          "iopub.execute_input": "2024-02-04T05:09:25.154898Z",
          "iopub.status.idle": "2024-02-04T05:09:25.167865Z",
          "shell.execute_reply.started": "2024-02-04T05:09:25.154847Z",
          "shell.execute_reply": "2024-02-04T05:09:25.166671Z"
        },
        "trusted": true,
        "id": "1JL87B9DrMqr",
        "outputId": "d6b2fe90-86d9-423b-a44a-b63269c75d5c"
      },
      "execution_count": null,
      "outputs": [
        {
          "execution_count": 12,
          "output_type": "execute_result",
          "data": {
            "text/plain": "   Unnamed: 0  S.No              USERNAME  \\\n0           0     1         mikequindazzi   \n1           1     2       drgorillapaints   \n2           2     3    aitrading_official   \n3           3     4  opensourcedworkplace   \n4           4     5           crea.vision   \n\n                                             Caption  Followers  \\\n0  Who are #DataScientist and what do they do? >>...       1600   \n1  We all know where it’s going. We just have to ...        880   \n2  Alexander Barinov: 4 years as CFO in multinati...        255   \n3                                               sfad        340   \n4  Ever missed a call while your phone was chargi...        304   \n\n                                            Hashtags Time since posted  Likes  \n0  #MachineLearning #AI #DataAnalytics #DataScien...          11 hours    139  \n1   #deck .#mac #macintosh#sayhello #apple #steve...           2 hours     23  \n2  #whoiswho #aitrading #ai #aitradingteam#instat...           2 hours     25  \n3  #iot #cre#workplace #CDO #bigdata #technology#...           3 hours     49  \n4  #instamachinelearning #instabigdata#instamarke...           3 hours     30  ",
            "text/html": "<div>\n<style scoped>\n    .dataframe tbody tr th:only-of-type {\n        vertical-align: middle;\n    }\n\n    .dataframe tbody tr th {\n        vertical-align: top;\n    }\n\n    .dataframe thead th {\n        text-align: right;\n    }\n</style>\n<table border=\"1\" class=\"dataframe\">\n  <thead>\n    <tr style=\"text-align: right;\">\n      <th></th>\n      <th>Unnamed: 0</th>\n      <th>S.No</th>\n      <th>USERNAME</th>\n      <th>Caption</th>\n      <th>Followers</th>\n      <th>Hashtags</th>\n      <th>Time since posted</th>\n      <th>Likes</th>\n    </tr>\n  </thead>\n  <tbody>\n    <tr>\n      <th>0</th>\n      <td>0</td>\n      <td>1</td>\n      <td>mikequindazzi</td>\n      <td>Who are #DataScientist and what do they do? &gt;&gt;...</td>\n      <td>1600</td>\n      <td>#MachineLearning #AI #DataAnalytics #DataScien...</td>\n      <td>11 hours</td>\n      <td>139</td>\n    </tr>\n    <tr>\n      <th>1</th>\n      <td>1</td>\n      <td>2</td>\n      <td>drgorillapaints</td>\n      <td>We all know where it’s going. We just have to ...</td>\n      <td>880</td>\n      <td>#deck .#mac #macintosh#sayhello #apple #steve...</td>\n      <td>2 hours</td>\n      <td>23</td>\n    </tr>\n    <tr>\n      <th>2</th>\n      <td>2</td>\n      <td>3</td>\n      <td>aitrading_official</td>\n      <td>Alexander Barinov: 4 years as CFO in multinati...</td>\n      <td>255</td>\n      <td>#whoiswho #aitrading #ai #aitradingteam#instat...</td>\n      <td>2 hours</td>\n      <td>25</td>\n    </tr>\n    <tr>\n      <th>3</th>\n      <td>3</td>\n      <td>4</td>\n      <td>opensourcedworkplace</td>\n      <td>sfad</td>\n      <td>340</td>\n      <td>#iot #cre#workplace #CDO #bigdata #technology#...</td>\n      <td>3 hours</td>\n      <td>49</td>\n    </tr>\n    <tr>\n      <th>4</th>\n      <td>4</td>\n      <td>5</td>\n      <td>crea.vision</td>\n      <td>Ever missed a call while your phone was chargi...</td>\n      <td>304</td>\n      <td>#instamachinelearning #instabigdata#instamarke...</td>\n      <td>3 hours</td>\n      <td>30</td>\n    </tr>\n  </tbody>\n</table>\n</div>"
          },
          "metadata": {}
        }
      ]
    },
    {
      "cell_type": "code",
      "source": [
        "features_to_remove = ['Unnamed: 0', 'S.No']\n",
        "df.drop(columns=features_to_remove, inplace=True)"
      ],
      "metadata": {
        "execution": {
          "iopub.status.busy": "2024-02-04T05:44:15.114929Z",
          "iopub.execute_input": "2024-02-04T05:44:15.115347Z",
          "iopub.status.idle": "2024-02-04T05:44:15.122620Z",
          "shell.execute_reply.started": "2024-02-04T05:44:15.115312Z",
          "shell.execute_reply": "2024-02-04T05:44:15.121598Z"
        },
        "trusted": true,
        "id": "6sz79DXCrMqr"
      },
      "execution_count": null,
      "outputs": []
    },
    {
      "cell_type": "code",
      "source": [
        "df.head()"
      ],
      "metadata": {
        "execution": {
          "iopub.status.busy": "2024-02-04T05:47:15.516330Z",
          "iopub.execute_input": "2024-02-04T05:47:15.516810Z",
          "iopub.status.idle": "2024-02-04T05:47:15.530221Z",
          "shell.execute_reply.started": "2024-02-04T05:47:15.516771Z",
          "shell.execute_reply": "2024-02-04T05:47:15.528912Z"
        },
        "trusted": true,
        "id": "fdhDPNGirMqs",
        "outputId": "1090fb99-027b-4071-df7f-98dc30e8488a"
      },
      "execution_count": null,
      "outputs": [
        {
          "execution_count": 72,
          "output_type": "execute_result",
          "data": {
            "text/plain": "               USERNAME                                            Caption  \\\n0         mikequindazzi  Who are #DataScientist and what do they do? >>...   \n1       drgorillapaints  We all know where it’s going. We just have to ...   \n2    aitrading_official  Alexander Barinov: 4 years as CFO in multinati...   \n3  opensourcedworkplace                                               sfad   \n4           crea.vision  Ever missed a call while your phone was chargi...   \n\n   Followers                                           Hashtags  \\\n0       1600  #MachineLearning #AI #DataAnalytics #DataScien...   \n1        880   #deck .#mac #macintosh#sayhello #apple #steve...   \n2        255  #whoiswho #aitrading #ai #aitradingteam#instat...   \n3        340  #iot #cre#workplace #CDO #bigdata #technology#...   \n4        304  #instamachinelearning #instabigdata#instamarke...   \n\n  Time since posted  Likes  \n0              11 s    139  \n1               2 s     23  \n2               2 s     25  \n3               3 s     49  \n4               3 s     30  ",
            "text/html": "<div>\n<style scoped>\n    .dataframe tbody tr th:only-of-type {\n        vertical-align: middle;\n    }\n\n    .dataframe tbody tr th {\n        vertical-align: top;\n    }\n\n    .dataframe thead th {\n        text-align: right;\n    }\n</style>\n<table border=\"1\" class=\"dataframe\">\n  <thead>\n    <tr style=\"text-align: right;\">\n      <th></th>\n      <th>USERNAME</th>\n      <th>Caption</th>\n      <th>Followers</th>\n      <th>Hashtags</th>\n      <th>Time since posted</th>\n      <th>Likes</th>\n    </tr>\n  </thead>\n  <tbody>\n    <tr>\n      <th>0</th>\n      <td>mikequindazzi</td>\n      <td>Who are #DataScientist and what do they do? &gt;&gt;...</td>\n      <td>1600</td>\n      <td>#MachineLearning #AI #DataAnalytics #DataScien...</td>\n      <td>11 s</td>\n      <td>139</td>\n    </tr>\n    <tr>\n      <th>1</th>\n      <td>drgorillapaints</td>\n      <td>We all know where it’s going. We just have to ...</td>\n      <td>880</td>\n      <td>#deck .#mac #macintosh#sayhello #apple #steve...</td>\n      <td>2 s</td>\n      <td>23</td>\n    </tr>\n    <tr>\n      <th>2</th>\n      <td>aitrading_official</td>\n      <td>Alexander Barinov: 4 years as CFO in multinati...</td>\n      <td>255</td>\n      <td>#whoiswho #aitrading #ai #aitradingteam#instat...</td>\n      <td>2 s</td>\n      <td>25</td>\n    </tr>\n    <tr>\n      <th>3</th>\n      <td>opensourcedworkplace</td>\n      <td>sfad</td>\n      <td>340</td>\n      <td>#iot #cre#workplace #CDO #bigdata #technology#...</td>\n      <td>3 s</td>\n      <td>49</td>\n    </tr>\n    <tr>\n      <th>4</th>\n      <td>crea.vision</td>\n      <td>Ever missed a call while your phone was chargi...</td>\n      <td>304</td>\n      <td>#instamachinelearning #instabigdata#instamarke...</td>\n      <td>3 s</td>\n      <td>30</td>\n    </tr>\n  </tbody>\n</table>\n</div>"
          },
          "metadata": {}
        }
      ]
    },
    {
      "cell_type": "code",
      "source": [
        "df['Time since posted'] = df['Time since posted'].str.replace('hours', '').str.strip()"
      ],
      "metadata": {
        "execution": {
          "iopub.status.busy": "2024-02-04T05:47:16.701907Z",
          "iopub.execute_input": "2024-02-04T05:47:16.702331Z",
          "iopub.status.idle": "2024-02-04T05:47:16.708970Z",
          "shell.execute_reply.started": "2024-02-04T05:47:16.702296Z",
          "shell.execute_reply": "2024-02-04T05:47:16.707690Z"
        },
        "trusted": true,
        "id": "YfAf36HXrMqt"
      },
      "execution_count": null,
      "outputs": []
    },
    {
      "cell_type": "code",
      "source": [
        "num_features = [feature for feature in df.columns if df[feature].dtype !=  '0']\n",
        "cat_features = [feature for feature in df.columns if df[feature].dtype ==  '0']"
      ],
      "metadata": {
        "execution": {
          "iopub.status.busy": "2024-02-04T05:47:20.154161Z",
          "iopub.execute_input": "2024-02-04T05:47:20.154592Z",
          "iopub.status.idle": "2024-02-04T05:47:20.160462Z",
          "shell.execute_reply.started": "2024-02-04T05:47:20.154553Z",
          "shell.execute_reply": "2024-02-04T05:47:20.159326Z"
        },
        "trusted": true,
        "id": "qBzv83HrrMqu"
      },
      "execution_count": null,
      "outputs": []
    },
    {
      "cell_type": "code",
      "source": [
        "print('there are {} num_features : {}' .format(len(num_features) ,num_features))\n",
        "print('there are {} cat_features : {}' .format(len(cat_features) ,cat_features))\n"
      ],
      "metadata": {
        "execution": {
          "iopub.status.busy": "2024-02-04T05:47:22.277597Z",
          "iopub.execute_input": "2024-02-04T05:47:22.278030Z",
          "iopub.status.idle": "2024-02-04T05:47:22.284636Z",
          "shell.execute_reply.started": "2024-02-04T05:47:22.277996Z",
          "shell.execute_reply": "2024-02-04T05:47:22.283568Z"
        },
        "trusted": true,
        "id": "07FBVORZrMqv",
        "outputId": "4a4e785d-27df-409a-9dd4-248f5ba57d53"
      },
      "execution_count": null,
      "outputs": [
        {
          "name": "stdout",
          "text": "there are 6 num_features : ['USERNAME', 'Caption', 'Followers', 'Hashtags', 'Time since posted', 'Likes']\nthere are 0 cat_features : []\n",
          "output_type": "stream"
        }
      ]
    },
    {
      "cell_type": "code",
      "source": [
        "num_features"
      ],
      "metadata": {
        "execution": {
          "iopub.status.busy": "2024-02-04T05:39:46.389905Z",
          "iopub.execute_input": "2024-02-04T05:39:46.390311Z",
          "iopub.status.idle": "2024-02-04T05:39:46.397556Z",
          "shell.execute_reply.started": "2024-02-04T05:39:46.390280Z",
          "shell.execute_reply": "2024-02-04T05:39:46.396290Z"
        },
        "trusted": true,
        "id": "67ThWimBrMqw",
        "outputId": "d6d43f44-50e0-4729-ad3d-7071344a0825"
      },
      "execution_count": null,
      "outputs": [
        {
          "execution_count": 60,
          "output_type": "execute_result",
          "data": {
            "text/plain": "['USERNAME', 'Caption', 'Followers', 'Hashtags', 'Time since posted', 'Likes']"
          },
          "metadata": {}
        }
      ]
    },
    {
      "cell_type": "code",
      "source": [
        "import matplotlib.pyplot as plt"
      ],
      "metadata": {
        "execution": {
          "iopub.status.busy": "2024-02-04T05:35:34.646188Z",
          "iopub.execute_input": "2024-02-04T05:35:34.646583Z",
          "iopub.status.idle": "2024-02-04T05:35:34.652903Z",
          "shell.execute_reply.started": "2024-02-04T05:35:34.646554Z",
          "shell.execute_reply": "2024-02-04T05:35:34.651698Z"
        },
        "trusted": true,
        "id": "N99EYDakrMqx"
      },
      "execution_count": null,
      "outputs": []
    },
    {
      "cell_type": "code",
      "source": [
        "plt.figure(figsize=(15,10))\n",
        "\n",
        "for i in range(0, len(Followers)):\n",
        "    plt.subplot(2,2, i+1)\n",
        "    sns.kdeplot(x=df[Followers[i]], color = 'blue')\n",
        "    plt.xlabel(Followers[i])\n",
        "    plt.tight_layout()\n",
        "    plt.savefig(\"path\")"
      ],
      "metadata": {
        "execution": {
          "iopub.status.busy": "2024-02-04T05:38:22.238697Z",
          "iopub.execute_input": "2024-02-04T05:38:22.239174Z",
          "iopub.status.idle": "2024-02-04T05:38:22.286959Z",
          "shell.execute_reply.started": "2024-02-04T05:38:22.239139Z",
          "shell.execute_reply": "2024-02-04T05:38:22.285487Z"
        },
        "trusted": true,
        "id": "9-Ow1YJUrMqy",
        "outputId": "bf7196cf-5c02-421d-e79d-8b66eb1e41ec"
      },
      "execution_count": null,
      "outputs": [
        {
          "traceback": [
            "\u001b[0;31m---------------------------------------------------------------------------\u001b[0m",
            "\u001b[0;31mNameError\u001b[0m                                 Traceback (most recent call last)",
            "Cell \u001b[0;32mIn[54], line 3\u001b[0m\n\u001b[1;32m      1\u001b[0m plt\u001b[38;5;241m.\u001b[39mfigure(figsize\u001b[38;5;241m=\u001b[39m(\u001b[38;5;241m15\u001b[39m,\u001b[38;5;241m10\u001b[39m))\n\u001b[0;32m----> 3\u001b[0m \u001b[38;5;28;01mfor\u001b[39;00m i \u001b[38;5;129;01min\u001b[39;00m \u001b[38;5;28mrange\u001b[39m(\u001b[38;5;241m0\u001b[39m, \u001b[38;5;28mlen\u001b[39m(\u001b[43mFollowers\u001b[49m)):\n\u001b[1;32m      4\u001b[0m     plt\u001b[38;5;241m.\u001b[39msubplot(\u001b[38;5;241m2\u001b[39m,\u001b[38;5;241m2\u001b[39m, i\u001b[38;5;241m+\u001b[39m\u001b[38;5;241m1\u001b[39m)\n\u001b[1;32m      5\u001b[0m     sns\u001b[38;5;241m.\u001b[39mkdeplot(x\u001b[38;5;241m=\u001b[39mdf[Followers[i]], color \u001b[38;5;241m=\u001b[39m \u001b[38;5;124m'\u001b[39m\u001b[38;5;124mblue\u001b[39m\u001b[38;5;124m'\u001b[39m)\n",
            "\u001b[0;31mNameError\u001b[0m: name 'Followers' is not defined"
          ],
          "ename": "NameError",
          "evalue": "name 'Followers' is not defined",
          "output_type": "error"
        },
        {
          "output_type": "display_data",
          "data": {
            "text/plain": "<Figure size 1500x1000 with 0 Axes>"
          },
          "metadata": {}
        }
      ]
    },
    {
      "cell_type": "code",
      "source": [],
      "metadata": {
        "execution": {
          "iopub.status.busy": "2024-02-04T05:30:19.678825Z",
          "iopub.execute_input": "2024-02-04T05:30:19.679216Z",
          "iopub.status.idle": "2024-02-04T05:30:19.684494Z",
          "shell.execute_reply.started": "2024-02-04T05:30:19.679186Z",
          "shell.execute_reply": "2024-02-04T05:30:19.683022Z"
        },
        "trusted": true,
        "id": "6tQbXUlArMqz"
      },
      "execution_count": null,
      "outputs": []
    },
    {
      "cell_type": "code",
      "source": [
        "fig = px.line_polar(df3, r = 'Followers', theta = 'Likes', line_close = True,\n",
        "                    color_discrete_sequence = ['red'],text = 'Followers')\n",
        "fig.update_traces(fill = 'toself', textposition = 'top center')\n",
        "fig.show()\n"
      ],
      "metadata": {
        "execution": {
          "iopub.status.busy": "2024-02-04T05:31:21.738990Z",
          "iopub.execute_input": "2024-02-04T05:31:21.739609Z",
          "iopub.status.idle": "2024-02-04T05:31:23.658379Z",
          "shell.execute_reply.started": "2024-02-04T05:31:21.739575Z",
          "shell.execute_reply": "2024-02-04T05:31:23.657192Z"
        },
        "trusted": true,
        "id": "tAFkvLfvrMqz",
        "outputId": "ca0b0e4e-abb1-44a6-9258-703f9e647f9e"
      },
      "execution_count": null,
      "outputs": [
        {
          "output_type": "display_data",
          "data": {
            "text/html": "        <script type=\"text/javascript\">\n        window.PlotlyConfig = {MathJaxConfig: 'local'};\n        if (window.MathJax && window.MathJax.Hub && window.MathJax.Hub.Config) {window.MathJax.Hub.Config({SVG: {font: \"STIX-Web\"}});}\n        if (typeof require !== 'undefined') {\n        require.undef(\"plotly\");\n        requirejs.config({\n            paths: {\n                'plotly': ['https://cdn.plot.ly/plotly-2.27.0.min']\n            }\n        });\n        require(['plotly'], function(Plotly) {\n            window._Plotly = Plotly;\n        });\n        }\n        </script>\n        "
          },
          "metadata": {}
        },
        {
          "output_type": "display_data",
          "data": {
            "text/html": "<div>                            <div id=\"edc69fb0-7058-489f-ad6f-19f46447d220\" class=\"plotly-graph-div\" style=\"height:525px; width:100%;\"></div>            <script type=\"text/javascript\">                require([\"plotly\"], function(Plotly) {                    window.PLOTLYENV=window.PLOTLYENV || {};                                    if (document.getElementById(\"edc69fb0-7058-489f-ad6f-19f46447d220\")) {                    Plotly.newPlot(                        \"edc69fb0-7058-489f-ad6f-19f46447d220\",                        [{\"hovertemplate\":\"Followers=%{text}\\u003cbr\\u003eLikes=%{theta}\\u003cextra\\u003e\\u003c\\u002fextra\\u003e\",\"legendgroup\":\"\",\"line\":{\"color\":\"red\",\"dash\":\"solid\"},\"marker\":{\"symbol\":\"circle\"},\"mode\":\"lines+markers+text\",\"name\":\"\",\"r\":[1600,880,255,340,304,1231,259,1433,13,450,149,2232,1061,533,2904,971,285,520,75,2691,966,334,1041,4496,166,1211,265,1618,279,279,828,12,894,610,226,1168,835,124,193,1600,258,105,273,914,118,122,1180,3139,3725,935,1766,2277,348,87,2785,3448,530,3147,918,4496,145,11,577,66,89,2014,151,2175,371,1003,1200,383,955,2372,740,2573,181,631,246,460,140,888,845,91,361,2455,361,262,1158,1196,863,971,106,179,49,614,450,182,2039,741,1600],\"showlegend\":false,\"subplot\":\"polar\",\"text\":[1600.0,880.0,255.0,340.0,304.0,1231.0,259.0,1433.0,13.0,450.0,149.0,2232.0,1061.0,533.0,2904.0,971.0,285.0,520.0,75.0,2691.0,966.0,334.0,1041.0,4496.0,166.0,1211.0,265.0,1618.0,279.0,279.0,828.0,12.0,894.0,610.0,226.0,1168.0,835.0,124.0,193.0,1600.0,258.0,105.0,273.0,914.0,118.0,122.0,1180.0,3139.0,3725.0,935.0,1766.0,2277.0,348.0,87.0,2785.0,3448.0,530.0,3147.0,918.0,4496.0,145.0,11.0,577.0,66.0,89.0,2014.0,151.0,2175.0,371.0,1003.0,1200.0,383.0,955.0,2372.0,740.0,2573.0,181.0,631.0,246.0,460.0,140.0,888.0,845.0,91.0,361.0,2455.0,361.0,262.0,1158.0,1196.0,863.0,971.0,106.0,179.0,49.0,614.0,450.0,182.0,2039.0,741.0,1600.0],\"theta\":[139,23,25,49,30,18,35,86,22,18,31,48,80,94,28,53,29,46,30,34,198,19,20,11,10,46,25,148,43,37,90,19,14,30,273,13,93,24,18,136,24,8,41,81,16,31,24,51,43,20,25,157,17,24,65,349,17,10,21,11,16,10,27,16,19,29,31,41,19,40,21,50,20,10,35,119,11,55,12,29,28,43,31,14,33,24,43,9,29,16,32,46,12,20,24,31,42,10,222,109,139],\"type\":\"scatterpolar\",\"fill\":\"toself\",\"textposition\":\"top center\"}],                        {\"template\":{\"data\":{\"histogram2dcontour\":[{\"type\":\"histogram2dcontour\",\"colorbar\":{\"outlinewidth\":0,\"ticks\":\"\"},\"colorscale\":[[0.0,\"#0d0887\"],[0.1111111111111111,\"#46039f\"],[0.2222222222222222,\"#7201a8\"],[0.3333333333333333,\"#9c179e\"],[0.4444444444444444,\"#bd3786\"],[0.5555555555555556,\"#d8576b\"],[0.6666666666666666,\"#ed7953\"],[0.7777777777777778,\"#fb9f3a\"],[0.8888888888888888,\"#fdca26\"],[1.0,\"#f0f921\"]]}],\"choropleth\":[{\"type\":\"choropleth\",\"colorbar\":{\"outlinewidth\":0,\"ticks\":\"\"}}],\"histogram2d\":[{\"type\":\"histogram2d\",\"colorbar\":{\"outlinewidth\":0,\"ticks\":\"\"},\"colorscale\":[[0.0,\"#0d0887\"],[0.1111111111111111,\"#46039f\"],[0.2222222222222222,\"#7201a8\"],[0.3333333333333333,\"#9c179e\"],[0.4444444444444444,\"#bd3786\"],[0.5555555555555556,\"#d8576b\"],[0.6666666666666666,\"#ed7953\"],[0.7777777777777778,\"#fb9f3a\"],[0.8888888888888888,\"#fdca26\"],[1.0,\"#f0f921\"]]}],\"heatmap\":[{\"type\":\"heatmap\",\"colorbar\":{\"outlinewidth\":0,\"ticks\":\"\"},\"colorscale\":[[0.0,\"#0d0887\"],[0.1111111111111111,\"#46039f\"],[0.2222222222222222,\"#7201a8\"],[0.3333333333333333,\"#9c179e\"],[0.4444444444444444,\"#bd3786\"],[0.5555555555555556,\"#d8576b\"],[0.6666666666666666,\"#ed7953\"],[0.7777777777777778,\"#fb9f3a\"],[0.8888888888888888,\"#fdca26\"],[1.0,\"#f0f921\"]]}],\"heatmapgl\":[{\"type\":\"heatmapgl\",\"colorbar\":{\"outlinewidth\":0,\"ticks\":\"\"},\"colorscale\":[[0.0,\"#0d0887\"],[0.1111111111111111,\"#46039f\"],[0.2222222222222222,\"#7201a8\"],[0.3333333333333333,\"#9c179e\"],[0.4444444444444444,\"#bd3786\"],[0.5555555555555556,\"#d8576b\"],[0.6666666666666666,\"#ed7953\"],[0.7777777777777778,\"#fb9f3a\"],[0.8888888888888888,\"#fdca26\"],[1.0,\"#f0f921\"]]}],\"contourcarpet\":[{\"type\":\"contourcarpet\",\"colorbar\":{\"outlinewidth\":0,\"ticks\":\"\"}}],\"contour\":[{\"type\":\"contour\",\"colorbar\":{\"outlinewidth\":0,\"ticks\":\"\"},\"colorscale\":[[0.0,\"#0d0887\"],[0.1111111111111111,\"#46039f\"],[0.2222222222222222,\"#7201a8\"],[0.3333333333333333,\"#9c179e\"],[0.4444444444444444,\"#bd3786\"],[0.5555555555555556,\"#d8576b\"],[0.6666666666666666,\"#ed7953\"],[0.7777777777777778,\"#fb9f3a\"],[0.8888888888888888,\"#fdca26\"],[1.0,\"#f0f921\"]]}],\"surface\":[{\"type\":\"surface\",\"colorbar\":{\"outlinewidth\":0,\"ticks\":\"\"},\"colorscale\":[[0.0,\"#0d0887\"],[0.1111111111111111,\"#46039f\"],[0.2222222222222222,\"#7201a8\"],[0.3333333333333333,\"#9c179e\"],[0.4444444444444444,\"#bd3786\"],[0.5555555555555556,\"#d8576b\"],[0.6666666666666666,\"#ed7953\"],[0.7777777777777778,\"#fb9f3a\"],[0.8888888888888888,\"#fdca26\"],[1.0,\"#f0f921\"]]}],\"mesh3d\":[{\"type\":\"mesh3d\",\"colorbar\":{\"outlinewidth\":0,\"ticks\":\"\"}}],\"scatter\":[{\"fillpattern\":{\"fillmode\":\"overlay\",\"size\":10,\"solidity\":0.2},\"type\":\"scatter\"}],\"parcoords\":[{\"type\":\"parcoords\",\"line\":{\"colorbar\":{\"outlinewidth\":0,\"ticks\":\"\"}}}],\"scatterpolargl\":[{\"type\":\"scatterpolargl\",\"marker\":{\"colorbar\":{\"outlinewidth\":0,\"ticks\":\"\"}}}],\"bar\":[{\"error_x\":{\"color\":\"#2a3f5f\"},\"error_y\":{\"color\":\"#2a3f5f\"},\"marker\":{\"line\":{\"color\":\"#E5ECF6\",\"width\":0.5},\"pattern\":{\"fillmode\":\"overlay\",\"size\":10,\"solidity\":0.2}},\"type\":\"bar\"}],\"scattergeo\":[{\"type\":\"scattergeo\",\"marker\":{\"colorbar\":{\"outlinewidth\":0,\"ticks\":\"\"}}}],\"scatterpolar\":[{\"type\":\"scatterpolar\",\"marker\":{\"colorbar\":{\"outlinewidth\":0,\"ticks\":\"\"}}}],\"histogram\":[{\"marker\":{\"pattern\":{\"fillmode\":\"overlay\",\"size\":10,\"solidity\":0.2}},\"type\":\"histogram\"}],\"scattergl\":[{\"type\":\"scattergl\",\"marker\":{\"colorbar\":{\"outlinewidth\":0,\"ticks\":\"\"}}}],\"scatter3d\":[{\"type\":\"scatter3d\",\"line\":{\"colorbar\":{\"outlinewidth\":0,\"ticks\":\"\"}},\"marker\":{\"colorbar\":{\"outlinewidth\":0,\"ticks\":\"\"}}}],\"scattermapbox\":[{\"type\":\"scattermapbox\",\"marker\":{\"colorbar\":{\"outlinewidth\":0,\"ticks\":\"\"}}}],\"scatterternary\":[{\"type\":\"scatterternary\",\"marker\":{\"colorbar\":{\"outlinewidth\":0,\"ticks\":\"\"}}}],\"scattercarpet\":[{\"type\":\"scattercarpet\",\"marker\":{\"colorbar\":{\"outlinewidth\":0,\"ticks\":\"\"}}}],\"carpet\":[{\"aaxis\":{\"endlinecolor\":\"#2a3f5f\",\"gridcolor\":\"white\",\"linecolor\":\"white\",\"minorgridcolor\":\"white\",\"startlinecolor\":\"#2a3f5f\"},\"baxis\":{\"endlinecolor\":\"#2a3f5f\",\"gridcolor\":\"white\",\"linecolor\":\"white\",\"minorgridcolor\":\"white\",\"startlinecolor\":\"#2a3f5f\"},\"type\":\"carpet\"}],\"table\":[{\"cells\":{\"fill\":{\"color\":\"#EBF0F8\"},\"line\":{\"color\":\"white\"}},\"header\":{\"fill\":{\"color\":\"#C8D4E3\"},\"line\":{\"color\":\"white\"}},\"type\":\"table\"}],\"barpolar\":[{\"marker\":{\"line\":{\"color\":\"#E5ECF6\",\"width\":0.5},\"pattern\":{\"fillmode\":\"overlay\",\"size\":10,\"solidity\":0.2}},\"type\":\"barpolar\"}],\"pie\":[{\"automargin\":true,\"type\":\"pie\"}]},\"layout\":{\"autotypenumbers\":\"strict\",\"colorway\":[\"#636efa\",\"#EF553B\",\"#00cc96\",\"#ab63fa\",\"#FFA15A\",\"#19d3f3\",\"#FF6692\",\"#B6E880\",\"#FF97FF\",\"#FECB52\"],\"font\":{\"color\":\"#2a3f5f\"},\"hovermode\":\"closest\",\"hoverlabel\":{\"align\":\"left\"},\"paper_bgcolor\":\"white\",\"plot_bgcolor\":\"#E5ECF6\",\"polar\":{\"bgcolor\":\"#E5ECF6\",\"angularaxis\":{\"gridcolor\":\"white\",\"linecolor\":\"white\",\"ticks\":\"\"},\"radialaxis\":{\"gridcolor\":\"white\",\"linecolor\":\"white\",\"ticks\":\"\"}},\"ternary\":{\"bgcolor\":\"#E5ECF6\",\"aaxis\":{\"gridcolor\":\"white\",\"linecolor\":\"white\",\"ticks\":\"\"},\"baxis\":{\"gridcolor\":\"white\",\"linecolor\":\"white\",\"ticks\":\"\"},\"caxis\":{\"gridcolor\":\"white\",\"linecolor\":\"white\",\"ticks\":\"\"}},\"coloraxis\":{\"colorbar\":{\"outlinewidth\":0,\"ticks\":\"\"}},\"colorscale\":{\"sequential\":[[0.0,\"#0d0887\"],[0.1111111111111111,\"#46039f\"],[0.2222222222222222,\"#7201a8\"],[0.3333333333333333,\"#9c179e\"],[0.4444444444444444,\"#bd3786\"],[0.5555555555555556,\"#d8576b\"],[0.6666666666666666,\"#ed7953\"],[0.7777777777777778,\"#fb9f3a\"],[0.8888888888888888,\"#fdca26\"],[1.0,\"#f0f921\"]],\"sequentialminus\":[[0.0,\"#0d0887\"],[0.1111111111111111,\"#46039f\"],[0.2222222222222222,\"#7201a8\"],[0.3333333333333333,\"#9c179e\"],[0.4444444444444444,\"#bd3786\"],[0.5555555555555556,\"#d8576b\"],[0.6666666666666666,\"#ed7953\"],[0.7777777777777778,\"#fb9f3a\"],[0.8888888888888888,\"#fdca26\"],[1.0,\"#f0f921\"]],\"diverging\":[[0,\"#8e0152\"],[0.1,\"#c51b7d\"],[0.2,\"#de77ae\"],[0.3,\"#f1b6da\"],[0.4,\"#fde0ef\"],[0.5,\"#f7f7f7\"],[0.6,\"#e6f5d0\"],[0.7,\"#b8e186\"],[0.8,\"#7fbc41\"],[0.9,\"#4d9221\"],[1,\"#276419\"]]},\"xaxis\":{\"gridcolor\":\"white\",\"linecolor\":\"white\",\"ticks\":\"\",\"title\":{\"standoff\":15},\"zerolinecolor\":\"white\",\"automargin\":true,\"zerolinewidth\":2},\"yaxis\":{\"gridcolor\":\"white\",\"linecolor\":\"white\",\"ticks\":\"\",\"title\":{\"standoff\":15},\"zerolinecolor\":\"white\",\"automargin\":true,\"zerolinewidth\":2},\"scene\":{\"xaxis\":{\"backgroundcolor\":\"#E5ECF6\",\"gridcolor\":\"white\",\"linecolor\":\"white\",\"showbackground\":true,\"ticks\":\"\",\"zerolinecolor\":\"white\",\"gridwidth\":2},\"yaxis\":{\"backgroundcolor\":\"#E5ECF6\",\"gridcolor\":\"white\",\"linecolor\":\"white\",\"showbackground\":true,\"ticks\":\"\",\"zerolinecolor\":\"white\",\"gridwidth\":2},\"zaxis\":{\"backgroundcolor\":\"#E5ECF6\",\"gridcolor\":\"white\",\"linecolor\":\"white\",\"showbackground\":true,\"ticks\":\"\",\"zerolinecolor\":\"white\",\"gridwidth\":2}},\"shapedefaults\":{\"line\":{\"color\":\"#2a3f5f\"}},\"annotationdefaults\":{\"arrowcolor\":\"#2a3f5f\",\"arrowhead\":0,\"arrowwidth\":1},\"geo\":{\"bgcolor\":\"white\",\"landcolor\":\"#E5ECF6\",\"subunitcolor\":\"white\",\"showland\":true,\"showlakes\":true,\"lakecolor\":\"white\"},\"title\":{\"x\":0.05},\"mapbox\":{\"style\":\"light\"}}},\"polar\":{\"domain\":{\"x\":[0.0,1.0],\"y\":[0.0,1.0]},\"angularaxis\":{\"direction\":\"clockwise\",\"rotation\":90}},\"legend\":{\"tracegroupgap\":0},\"margin\":{\"t\":60}},                        {\"responsive\": true}                    ).then(function(){\n                            \nvar gd = document.getElementById('edc69fb0-7058-489f-ad6f-19f46447d220');\nvar x = new MutationObserver(function (mutations, observer) {{\n        var display = window.getComputedStyle(gd).display;\n        if (!display || display === 'none') {{\n            console.log([gd, 'removed!']);\n            Plotly.purge(gd);\n            observer.disconnect();\n        }}\n}});\n\n// Listen for the removal of the full notebook cells\nvar notebookContainer = gd.closest('#notebook-container');\nif (notebookContainer) {{\n    x.observe(notebookContainer, {childList: true});\n}}\n\n// Listen for the clearing of the current output cell\nvar outputEl = gd.closest('.output');\nif (outputEl) {{\n    x.observe(outputEl, {childList: true});\n}}\n\n                        })                };                });            </script>        </div>"
          },
          "metadata": {}
        }
      ]
    },
    {
      "cell_type": "code",
      "source": [],
      "metadata": {
        "id": "aexFjrX3rMq0"
      },
      "execution_count": null,
      "outputs": []
    }
  ]
}