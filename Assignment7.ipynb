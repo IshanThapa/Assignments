{
  "nbformat": 4,
  "nbformat_minor": 0,
  "metadata": {
    "colab": {
      "provenance": [],
      "authorship_tag": "ABX9TyN+Ub6MV1JTAZmqdtpu403B",
      "include_colab_link": true
    },
    "kernelspec": {
      "name": "python3",
      "display_name": "Python 3"
    },
    "language_info": {
      "name": "python"
    }
  },
  "cells": [
    {
      "cell_type": "markdown",
      "metadata": {
        "id": "view-in-github",
        "colab_type": "text"
      },
      "source": [
        "<a href=\"https://colab.research.google.com/github/IshanThapa/Assignments/blob/master/Assignment7.ipynb\" target=\"_parent\"><img src=\"https://colab.research.google.com/assets/colab-badge.svg\" alt=\"Open In Colab\"/></a>"
      ]
    },
    {
      "cell_type": "code",
      "execution_count": null,
      "metadata": {
        "id": "uC_ZNMmsEPWF"
      },
      "outputs": [],
      "source": [
        "#Ques1-\n",
        "class Solution:\n",
        "    def isIsomorphic(self, s: str, t: str) -> bool:\n",
        "        map_s_t = {}\n",
        "        map_t_s = {}\n",
        "        if len(s) != len(t):\n",
        "            return false\n",
        "            \n",
        "        for c1,c2 in zip(s,t):\n",
        "\n",
        "            #if no dictionary has mapping then;\n",
        "            if (c1 not in map_s_t) and (c2 not in map_t_s):\n",
        "                map_s_t[c1] = c2\n",
        "                map_t_s[c2] = c1\n",
        "\n",
        "            #if mapping exist but variations are found\n",
        "            elif map_s_t.get(c1) != c2 or map_t_s.get(c2) !=c1:\n",
        "                return False\n",
        "\n",
        "        return True\n",
        "\n",
        "#TC-O(n)time required to iterate s and t.\n",
        "#SC-O(n)space taken by maps maximum will be s and t length."
      ]
    },
    {
      "cell_type": "code",
      "source": [
        "#Ques2-\n",
        "def isStrobogrammatic(num: str) -> bool:\n",
        "    strobo_map = {nums: nums for nums in num}\n",
        "    left, right = 0, len(num) - 1\n",
        "    \n",
        "    while left <= right:\n",
        "        if num[left] not in strobo_map or strobo_map[num[left]] != num[right]:\n",
        "            return False\n",
        "        left += 1\n",
        "        right -= 1\n",
        "    \n",
        "    return True\n"
      ],
      "metadata": {
        "id": "gPLkBBpdH3eo"
      },
      "execution_count": null,
      "outputs": []
    },
    {
      "cell_type": "code",
      "source": [
        "#ques3-\n",
        "class Solution:\n",
        "    def addStrings(self, s1: str, s2: str) -> str:\n",
        "        ptr1 = len(s1) - 1\n",
        "        ptr2 = len(s2) - 1\n",
        "        carry = 0\n",
        "        result = []\n",
        "\n",
        "        while ptr1 >= 0 or ptr2 >= 0 or carry > 0:\n",
        "            val1 = int(s1[ptr1]) if ptr1 >= 0 else 0\n",
        "            val2 = int(s2[ptr2]) if ptr2 >= 0 else 0\n",
        "\n",
        "            temp = val1 + val2 + carry\n",
        "            carry = temp // 10\n",
        "            digit = temp % 10\n",
        "\n",
        "            result.append(str(digit))\n",
        "\n",
        "            ptr1 -= 1\n",
        "            ptr2 -= 1\n",
        "\n",
        "        result.reverse()\n",
        "\n",
        "        return ''.join(result)\n"
      ],
      "metadata": {
        "id": "NWnidkvmKY0q"
      },
      "execution_count": 1,
      "outputs": []
    },
    {
      "cell_type": "code",
      "source": [
        "#Ques4-\n",
        "class Solution:\n",
        "    def reverseWords(self, s: str) -> str:\n",
        "        words=s.split()\n",
        "        revWord = \"\"\n",
        "        for  i in range(len(words)):\n",
        "            revWord += words[i][::-1]\n",
        "            if i != len(words)-1:\n",
        "                revWord+=\" \"\n",
        "        return revWord"
      ],
      "metadata": {
        "id": "TcwavJawWDdY"
      },
      "execution_count": 2,
      "outputs": []
    },
    {
      "cell_type": "code",
      "source": [
        "#Ques5-\n",
        "class Solution:\n",
        "    def reverseStr(self, s, k):                \n",
        "        \n",
        "        s = [s[i:i+k] for i in range(0, len(s), k)]\n",
        "        \n",
        "        for i in range(0, len(s), 2):\n",
        "            s[i] = s[i][::-1]\n",
        "        \n",
        "        return ''.join(s)\n"
      ],
      "metadata": {
        "id": "JFCGetlxYPD_"
      },
      "execution_count": 1,
      "outputs": []
    },
    {
      "cell_type": "code",
      "source": [
        "#Ques6-\n",
        "class Solution:\n",
        "    def rotateString(self, s: str, goal: str) -> bool:\n",
        "        for i,char in enumerate(s):\n",
        "            s+=s[0]\n",
        "            s=s[1:]\n",
        "            if s==goal:\n",
        "                return True\n",
        "        return False"
      ],
      "metadata": {
        "id": "Xy56zvOv2pi2"
      },
      "execution_count": 2,
      "outputs": []
    },
    {
      "cell_type": "code",
      "source": [
        "#Ques7-\n",
        "class Solution:\n",
        "    def backspaceCompare(self, s: str, t: str) -> bool:\n",
        "        if self.parse(s) == self.parse(t):\n",
        "            return True\n",
        "        return False\n",
        "    def parse(self, x):\n",
        "        res = []\n",
        "        for c in x:\n",
        "            if c!= \"#\":\n",
        "                res.append(c)\n",
        "            else:\n",
        "                if res : res.pop()\n",
        "\n",
        "        return ''.join(res)"
      ],
      "metadata": {
        "id": "Q8QKwEg-eSGz"
      },
      "execution_count": 3,
      "outputs": []
    },
    {
      "cell_type": "code",
      "source": [
        "#Ques8-\n",
        "class Solution:\n",
        "    def checkStraightLine(self, coordinates: list[list[int]]) -> bool:\n",
        "        (x0, y0), (x1, y1) = coordinates[:2]\n",
        "        return all(((x1 - x0) * (y - y1) == (x - x1) * (y1 - y0))\n",
        "                   for x, y in coordinates)\n"
      ],
      "metadata": {
        "id": "yRlujNYHeVk8"
      },
      "execution_count": 2,
      "outputs": []
    },
    {
      "cell_type": "code",
      "source": [],
      "metadata": {
        "id": "I2DXa9s-fe5c"
      },
      "execution_count": null,
      "outputs": []
    }
  ]
}